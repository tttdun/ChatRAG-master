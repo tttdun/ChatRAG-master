{
 "cells": [
  {
   "metadata": {},
   "cell_type": "markdown",
   "source": "## Nhập các thư viện cần thiết",
   "id": "d82dd6556a2c314a"
  },
  {
   "cell_type": "code",
   "id": "initial_id",
   "metadata": {
    "collapsed": true,
    "ExecuteTime": {
     "end_time": "2024-09-24T10:48:36.033051Z",
     "start_time": "2024-09-24T10:48:31.031059Z"
    }
   },
   "source": [
    "from sklearn.metrics.pairwise import cosine_similarity\n",
    "from sklearn.feature_extraction.text import TfidfVectorizer\n",
    "from RAG import RAGPipeline\n",
    "import os\n",
    "from dotenv import load_dotenv\n",
    "import nltk\n",
    "from nltk.translate.meteor_score import meteor_score\n",
    "from rouge_score import rouge_scorer\n",
    "import numpy as np\n",
    "import warnings\n",
    "import pandas as pd\n",
    "\n",
    "# Cài đặt bộ dữ liệu ngôn ngữ cho nltk (nếu chưa cài)\n",
    "# nltk.download('wordnet')\n",
    "# nltk.download('punkt')\n",
    "# nltk.download('punkt_tab')\n"
   ],
   "outputs": [],
   "execution_count": 2
  },
  {
   "metadata": {},
   "cell_type": "markdown",
   "source": "## Đọc dữ liệu từ file Excel",
   "id": "cae939ade11cda9"
  },
  {
   "metadata": {
    "ExecuteTime": {
     "end_time": "2024-09-24T10:48:36.357068Z",
     "start_time": "2024-09-24T10:48:36.039036Z"
    }
   },
   "cell_type": "code",
   "source": [
    "# Đọc file Excel\n",
    "file_path = 'doc/EvaluateData_RAG_QA.xlsx'  # Đường dẫn đến file Excel của bạn\n",
    "\n",
    "# Đảm bảo đọc đúng định dạng\n",
    "try:\n",
    "    data = pd.read_excel(file_path, engine='openpyxl')\n",
    "    questions = data['QUESTION'].tolist()\n",
    "    correct_answers = data['ANSWER'].tolist()\n",
    "except Exception as e:\n",
    "    print(f\"Lỗi khi đọc file Excel: {e}\")"
   ],
   "id": "6bf81a5386cf1e36",
   "outputs": [],
   "execution_count": 3
  },
  {
   "metadata": {},
   "cell_type": "markdown",
   "source": "## Sinh ra câu trả lời từ mô hình RAG",
   "id": "2442303975448990"
  },
  {
   "metadata": {
    "ExecuteTime": {
     "end_time": "2024-09-24T10:48:36.437533Z",
     "start_time": "2024-09-24T10:48:36.366869Z"
    }
   },
   "cell_type": "code",
   "source": [
    "from RAG import DocumentStore\n",
    "from ChunkDocument import DocumentProcessor\n",
    "from WordReader import WordReader\n",
    "\n",
    "\n",
    "# Hàm để sinh ra câu trả lời từ mô hình RAG\n",
    "def generate_answer(question):\n",
    "    load_dotenv()\n",
    "    \n",
    "    # Đọc tài liệu và chuyển đổi chúng thành danh sách các phần văn bản\n",
    "    file_paths = [\"doc/So tay SV HCMUTE-2018.docx\"]\n",
    "    word_reader = WordReader(file_paths)\n",
    "\n",
    "    # Đọc và xử lý các tài liệu từ WordReader\n",
    "    sections = word_reader.process_documents()\n",
    "\n",
    "    # Tạo DocumentProcessor và xử lý các tài liệu\n",
    "    processor = DocumentProcessor(sections)\n",
    "    documents = processor.process_documents()\n",
    "\n",
    "    # Khởi tạo DocumentStore\n",
    "    store = DocumentStore(documents)\n",
    "\n",
    "    # API Key của OpenAI (thay thế bằng khóa API của bạn)\n",
    "    OPENAI_KEY = os.getenv('OPENAI_KEY')\n",
    "    api_key = OPENAI_KEY\n",
    "\n",
    "    # Tạo một đối tượng RAGPipeline\n",
    "    rag_pipeline = RAGPipeline(documents=store, api_key=api_key, model_name='gpt-3.5-turbo')\n",
    "\n",
    "    # Sinh câu trả lời bằng mô hình RAG\n",
    "    answer = rag_pipeline.answer_question(question)\n",
    "    return answer"
   ],
   "id": "e72b79a2d6350ab1",
   "outputs": [],
   "execution_count": 4
  },
  {
   "metadata": {
    "ExecuteTime": {
     "end_time": "2024-09-24T10:48:36.448749Z",
     "start_time": "2024-09-24T10:48:36.445121Z"
    }
   },
   "cell_type": "code",
   "source": [
    "def compute_similarity(answer1, answer2):\n",
    "    vectorizer = TfidfVectorizer().fit_transform([answer1, answer2])\n",
    "    vectors = vectorizer.toarray()\n",
    "    return cosine_similarity(vectors)[0][1]"
   ],
   "id": "a7e9d6b93471dd26",
   "outputs": [],
   "execution_count": 5
  },
  {
   "metadata": {},
   "cell_type": "markdown",
   "source": [
    "## Tính ROUGE và METEOR\n",
    "\n",
    "METEOR (Metric for Evaluation of Translation with Explicit ORdering):\n",
    "\n",
    "- Ý Nghĩa: METEOR đo lường sự chính xác ngữ nghĩa của câu trả lời. Nó tính đến đồng nghĩa, hình thức từ và thứ tự từ trong câu.\n",
    "- Sử Dụng: Khi bạn muốn kiểm tra xem câu trả lời sinh ra có ý nghĩa tương tự như câu trả lời đúng hay không, ngay cả khi cấu trúc từ ngữ không giống nhau.\n",
    "\n",
    "\n",
    "ROUGE (Recall-Oriented Understudy for Gisting Evaluation):\n",
    "\n",
    "- Ý Nghĩa: ROUGE thường được sử dụng trong đánh giá tóm tắt văn bản và đo lường mức độ tương đồng giữa các câu bằng cách so sánh các từ và cụm từ.\n",
    "- Các Chỉ Số Chính:\n",
    "    - ROUGE-1: Tính số lượng các từ trùng khớp (unigrams) giữa câu sinh ra và câu đúng.\n",
    "    - ROUGE-L: Đánh giá dựa trên chuỗi con dài nhất (longest common subsequence), cho biết mối quan hệ thứ tự của các từ trong hai câu."
   ],
   "id": "812c3a3b8faf4753"
  },
  {
   "metadata": {
    "ExecuteTime": {
     "end_time": "2024-09-24T10:48:36.463019Z",
     "start_time": "2024-09-24T10:48:36.456352Z"
    }
   },
   "cell_type": "code",
   "source": [
    "# Hàm tính METEOR\n",
    "def compute_meteor(generated_answer, correct_answer):\n",
    "    # Phân tách câu thành danh sách các từ\n",
    "    generated_tokens = nltk.word_tokenize(generated_answer)\n",
    "    correct_tokens = nltk.word_tokenize(correct_answer)\n",
    "    return meteor_score([correct_tokens], generated_tokens)\n",
    "\n",
    "# Hàm tính ROUGE\n",
    "def compute_rouge(generated_answer, correct_answer):\n",
    "    scorer = rouge_scorer.RougeScorer(['rouge1', 'rougeL'], use_stemmer=True)\n",
    "    scores = scorer.score(generated_answer, correct_answer)\n",
    "    return scores['rouge1'].fmeasure, scores['rougeL'].fmeasure  # Sử dụng thuộc tính fmeasure\n",
    "\n",
    "# Tính METEOR và ROUGE\n",
    "def calculate_metrics(questions, correct_answers, file_path):\n",
    "    warnings.filterwarnings(\"ignore\", category=FutureWarning)\n",
    "    meteor_scores = []\n",
    "    rouge_scores = []\n",
    "    rag_answers = []  # Danh sách để lưu câu trả lời của RAG\n",
    "\n",
    "    for question, correct_answer in zip(questions, correct_answers):\n",
    "        generated_answer = generate_answer(question)  # Hàm sinh câu trả lời từ mô hình RAG\n",
    "        rag_answers.append(generated_answer)  # Lưu câu trả lời RAG\n",
    "        if generated_answer is None:\n",
    "            continue  # Bỏ qua nếu không thể sinh ra câu trả lời\n",
    "\n",
    "        # Tính điểm METEOR\n",
    "        meteor_similarity = compute_meteor(generated_answer, correct_answer)\n",
    "        meteor_scores.append(meteor_similarity)\n",
    "\n",
    "        # Tính điểm ROUGE\n",
    "        rouge_f1_scores = compute_rouge(generated_answer, correct_answer)\n",
    "        rouge_scores.append(rouge_f1_scores)\n",
    "\n",
    "    average_meteor = np.mean(meteor_scores) if meteor_scores else 0\n",
    "    average_rouge_1 = np.mean([score[0] for score in rouge_scores]) if rouge_scores else 0\n",
    "    average_rouge_l = np.mean([score[1] for score in rouge_scores]) if rouge_scores else 0\n",
    "\n",
    "    # Đọc DataFrame và cập nhật với câu trả lời của RAG\n",
    "    data = pd.read_excel(file_path)\n",
    "    data['RAG_ANSWER'] = rag_answers\n",
    "\n",
    "    # Lưu DataFrame trở lại file Excel\n",
    "    data.to_excel(file_path, index=False, engine='openpyxl')\n",
    "\n",
    "    return average_meteor, (average_rouge_1, average_rouge_l)"
   ],
   "id": "d047aa045624c830",
   "outputs": [],
   "execution_count": 6
  },
  {
   "metadata": {
    "jupyter": {
     "is_executing": true
    },
    "ExecuteTime": {
     "start_time": "2024-09-24T10:48:36.470661Z"
    }
   },
   "cell_type": "code",
   "source": [
    "# Gọi hàm để tính METEOR và ROUGE\n",
    "average_meteor, average_rouge = calculate_metrics(questions, correct_answers, file_path)\n",
    "\n",
    "# In kết quả\n",
    "print(f\"Average METEOR: {average_meteor}\")\n",
    "print(f\"Average ROUGE-1: {average_rouge[0]}\")\n",
    "print(f\"Average ROUGE-L: {average_rouge[1]}\")"
   ],
   "id": "f9dfbfcfb5d720c5",
   "outputs": [],
   "execution_count": null
  }
 ],
 "metadata": {
  "kernelspec": {
   "display_name": "Python 3",
   "language": "python",
   "name": "python3"
  },
  "language_info": {
   "codemirror_mode": {
    "name": "ipython",
    "version": 2
   },
   "file_extension": ".py",
   "mimetype": "text/x-python",
   "name": "python",
   "nbconvert_exporter": "python",
   "pygments_lexer": "ipython2",
   "version": "2.7.6"
  }
 },
 "nbformat": 4,
 "nbformat_minor": 5
}
